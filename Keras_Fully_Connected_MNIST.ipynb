{
  "nbformat": 4,
  "nbformat_minor": 0,
  "metadata": {
    "colab": {
      "name": "Keras - Fully Connected - MNIST",
      "version": "0.3.2",
      "provenance": []
    },
    "kernelspec": {
      "name": "python3",
      "display_name": "Python 3"
    },
    "accelerator": "GPU"
  },
  "cells": [
    {
      "cell_type": "markdown",
      "metadata": {
        "id": "view-in-github",
        "colab_type": "text"
      },
      "source": [
        "[View in Colaboratory](https://colab.research.google.com/github/Wayne-Wonbong-Jang/Topics-ML/blob/master/Keras_Fully_Connected_MNIST.ipynb)"
      ]
    },
    {
      "metadata": {
        "id": "oicOTZEvTogG",
        "colab_type": "text"
      },
      "cell_type": "markdown",
      "source": [
        "# Implement Fully Connected Layer using Keras"
      ]
    },
    {
      "metadata": {
        "id": "Br419nE0mw-C",
        "colab_type": "text"
      },
      "cell_type": "markdown",
      "source": [
        "* MNIST classification using fully connected layer is the basic example of Keras.\n",
        "* Personally, I realized the importance of pre-processing by writing this code. (I've spent one hour to debug this model and found out that there was an error on my pre-processing : Garbage-In, Garbage-Out?)"
      ]
    },
    {
      "metadata": {
        "id": "ZbY934p_TjoL",
        "colab_type": "code",
        "colab": {}
      },
      "cell_type": "code",
      "source": [
        "import tensorflow as tf\n",
        "import keras \n",
        "from keras.datasets import mnist\n",
        "from keras.models import Sequential\n",
        "from keras.layers import Dense, Dropout\n",
        "from keras.optimizers import sgd, adam\n",
        "import matplotlib.pyplot as plt"
      ],
      "execution_count": 0,
      "outputs": []
    },
    {
      "metadata": {
        "id": "ilPLFWXxZKMD",
        "colab_type": "code",
        "colab": {
          "base_uri": "https://localhost:8080/",
          "height": 314
        },
        "outputId": "d7d6a5f6-543c-4421-b5f8-7398230d1331"
      },
      "cell_type": "code",
      "source": [
        "#To see how the GPU works\n",
        "from tensorflow.python.client import device_lib\n",
        "print(device_lib.list_local_devices())"
      ],
      "execution_count": 203,
      "outputs": [
        {
          "output_type": "stream",
          "text": [
            "[name: \"/device:CPU:0\"\n",
            "device_type: \"CPU\"\n",
            "memory_limit: 268435456\n",
            "locality {\n",
            "}\n",
            "incarnation: 13110324125221337708\n",
            ", name: \"/device:GPU:0\"\n",
            "device_type: \"GPU\"\n",
            "memory_limit: 11287966516\n",
            "locality {\n",
            "  bus_id: 1\n",
            "  links {\n",
            "  }\n",
            "}\n",
            "incarnation: 16192503376963234596\n",
            "physical_device_desc: \"device: 0, name: Tesla K80, pci bus id: 0000:00:04.0, compute capability: 3.7\"\n",
            "]\n"
          ],
          "name": "stdout"
        }
      ]
    },
    {
      "metadata": {
        "id": "zHjd1P6aYEPX",
        "colab_type": "code",
        "colab": {
          "base_uri": "https://localhost:8080/",
          "height": 34
        },
        "outputId": "a5b19977-0bfb-4440-f766-6f8d490c4537"
      },
      "cell_type": "code",
      "source": [
        "# Enable GPU\n",
        "from keras import backend as K\n",
        "K.tensorflow_backend._get_available_gpus()"
      ],
      "execution_count": 202,
      "outputs": [
        {
          "output_type": "execute_result",
          "data": {
            "text/plain": [
              "['/job:localhost/replica:0/task:0/device:GPU:0']"
            ]
          },
          "metadata": {
            "tags": []
          },
          "execution_count": 202
        }
      ]
    },
    {
      "metadata": {
        "id": "7FiTI2xEUJ1s",
        "colab_type": "code",
        "colab": {}
      },
      "cell_type": "code",
      "source": [
        "batch_size = 64\n",
        "num_classes=10\n",
        "epochs = 20"
      ],
      "execution_count": 0,
      "outputs": []
    },
    {
      "metadata": {
        "id": "LLgX9H3yVaur",
        "colab_type": "code",
        "colab": {}
      },
      "cell_type": "code",
      "source": [
        "(x_train, y_train), (x_test, y_test) = mnist.load_data()"
      ],
      "execution_count": 0,
      "outputs": []
    },
    {
      "metadata": {
        "id": "KUYHmlPYVgC3",
        "colab_type": "code",
        "colab": {
          "base_uri": "https://localhost:8080/",
          "height": 34
        },
        "outputId": "5687dee5-9699-45e2-ccd6-257402561d5e"
      },
      "cell_type": "code",
      "source": [
        "x_train.shape"
      ],
      "execution_count": 164,
      "outputs": [
        {
          "output_type": "execute_result",
          "data": {
            "text/plain": [
              "(60000, 28, 28)"
            ]
          },
          "metadata": {
            "tags": []
          },
          "execution_count": 164
        }
      ]
    },
    {
      "metadata": {
        "id": "Imp2I9p2VwCQ",
        "colab_type": "code",
        "colab": {}
      },
      "cell_type": "code",
      "source": [
        "def preprocess(dataset):\n",
        "  dataset2 = dataset.reshape(-1,784)\n",
        "  dataset2 = dataset2.astype('float32')\n",
        "  dataset2 /= 255\n",
        "  return dataset2"
      ],
      "execution_count": 0,
      "outputs": []
    },
    {
      "metadata": {
        "id": "liIsytUpV9qw",
        "colab_type": "code",
        "colab": {}
      },
      "cell_type": "code",
      "source": [
        "x_train = preprocess(x_train)\n",
        "x_test = preprocess(x_test)"
      ],
      "execution_count": 0,
      "outputs": []
    },
    {
      "metadata": {
        "id": "GlPqgZDNZd4q",
        "colab_type": "code",
        "colab": {
          "base_uri": "https://localhost:8080/",
          "height": 34
        },
        "outputId": "5f4ce778-5d55-480c-8333-d20875e8108f"
      },
      "cell_type": "code",
      "source": [
        "x_train.shape"
      ],
      "execution_count": 167,
      "outputs": [
        {
          "output_type": "execute_result",
          "data": {
            "text/plain": [
              "(60000, 784)"
            ]
          },
          "metadata": {
            "tags": []
          },
          "execution_count": 167
        }
      ]
    },
    {
      "metadata": {
        "id": "Zg_4rcAHWBLv",
        "colab_type": "code",
        "colab": {
          "base_uri": "https://localhost:8080/",
          "height": 34
        },
        "outputId": "4ca2b830-10a7-4108-d5b2-be949e63fb4c"
      },
      "cell_type": "code",
      "source": [
        "y_train.shape"
      ],
      "execution_count": 168,
      "outputs": [
        {
          "output_type": "execute_result",
          "data": {
            "text/plain": [
              "(60000,)"
            ]
          },
          "metadata": {
            "tags": []
          },
          "execution_count": 168
        }
      ]
    },
    {
      "metadata": {
        "id": "P1fLPUcVWGg1",
        "colab_type": "code",
        "colab": {}
      },
      "cell_type": "code",
      "source": [
        "y_train = keras.utils.to_categorical(y_train, K)\n",
        "y_test = keras.utils.to_categorical(y_test, K)"
      ],
      "execution_count": 0,
      "outputs": []
    },
    {
      "metadata": {
        "id": "dvpt5UvobmMa",
        "colab_type": "code",
        "colab": {
          "base_uri": "https://localhost:8080/",
          "height": 34
        },
        "outputId": "58681976-fe7d-4f88-e033-67f386db101c"
      },
      "cell_type": "code",
      "source": [
        "y_train.shape"
      ],
      "execution_count": 170,
      "outputs": [
        {
          "output_type": "execute_result",
          "data": {
            "text/plain": [
              "(60000, 10)"
            ]
          },
          "metadata": {
            "tags": []
          },
          "execution_count": 170
        }
      ]
    },
    {
      "metadata": {
        "id": "f9zMUs-bdGiI",
        "colab_type": "code",
        "colab": {
          "base_uri": "https://localhost:8080/",
          "height": 34
        },
        "outputId": "f5303fb1-ffcd-49da-cda9-f16bf0ea6653"
      },
      "cell_type": "code",
      "source": [
        "y_test.shape"
      ],
      "execution_count": 171,
      "outputs": [
        {
          "output_type": "execute_result",
          "data": {
            "text/plain": [
              "(10000, 10)"
            ]
          },
          "metadata": {
            "tags": []
          },
          "execution_count": 171
        }
      ]
    },
    {
      "metadata": {
        "id": "ZAk6lulldbWJ",
        "colab_type": "code",
        "colab": {
          "base_uri": "https://localhost:8080/",
          "height": 347
        },
        "outputId": "1fa203fd-3797-4d7f-d782-78cf2e68aac5"
      },
      "cell_type": "code",
      "source": [
        "plt.imshow(x_train[0].reshape(-1,28))\n",
        "plt.show()"
      ],
      "execution_count": 172,
      "outputs": [
        {
          "output_type": "display_data",
          "data": {
            "image/png": "[encoded data removed]",
            "text/plain": [
              "<matplotlib.figure.Figure at 0x7fabbe175518>"
            ]
          },
          "metadata": {
            "tags": []
          }
        }
      ]
    },
    {
      "metadata": {
        "id": "yDhwCWIvdmbD",
        "colab_type": "code",
        "colab": {
          "base_uri": "https://localhost:8080/",
          "height": 34
        },
        "outputId": "4afa5664-7883-4d2f-fca8-e3c96537eec5"
      },
      "cell_type": "code",
      "source": [
        "y_train[0]"
      ],
      "execution_count": 173,
      "outputs": [
        {
          "output_type": "execute_result",
          "data": {
            "text/plain": [
              "array([0., 0., 0., 0., 0., 1., 0., 0., 0., 0.], dtype=float32)"
            ]
          },
          "metadata": {
            "tags": []
          },
          "execution_count": 173
        }
      ]
    },
    {
      "metadata": {
        "id": "5tgfi-3qdJq6",
        "colab_type": "code",
        "colab": {}
      },
      "cell_type": "code",
      "source": [
        "sgd = optimizers.SGD(lr=0.01, clipvalue=0.05)"
      ],
      "execution_count": 0,
      "outputs": []
    },
    {
      "metadata": {
        "id": "OOsi_rU5WZbx",
        "colab_type": "code",
        "colab": {}
      },
      "cell_type": "code",
      "source": [
        "model = Sequential()\n",
        "model.add(Dense(128, activation='relu',input_shape=(784,)))\n",
        "model.add(Dropout(0.5))\n",
        "model.add(Dense(128, activation='relu'))\n",
        "model.add(Dense(num_classes, activation='softmax'))"
      ],
      "execution_count": 0,
      "outputs": []
    },
    {
      "metadata": {
        "id": "pYW6zQONVkVr",
        "colab_type": "code",
        "colab": {
          "base_uri": "https://localhost:8080/",
          "height": 279
        },
        "outputId": "776d19d8-4c77-4f35-b17a-c4e264187ee3"
      },
      "cell_type": "code",
      "source": [
        "model.summary()"
      ],
      "execution_count": 176,
      "outputs": [
        {
          "output_type": "stream",
          "text": [
            "_________________________________________________________________\n",
            "Layer (type)                 Output Shape              Param #   \n",
            "=================================================================\n",
            "dense_52 (Dense)             (None, 128)               100480    \n",
            "_________________________________________________________________\n",
            "dropout_20 (Dropout)         (None, 128)               0         \n",
            "_________________________________________________________________\n",
            "dense_53 (Dense)             (None, 128)               16512     \n",
            "_________________________________________________________________\n",
            "dense_54 (Dense)             (None, 10)                1290      \n",
            "=================================================================\n",
            "Total params: 118,282\n",
            "Trainable params: 118,282\n",
            "Non-trainable params: 0\n",
            "_________________________________________________________________\n"
          ],
          "name": "stdout"
        }
      ]
    },
    {
      "metadata": {
        "id": "J9FDZpUaWyMK",
        "colab_type": "code",
        "colab": {}
      },
      "cell_type": "code",
      "source": [
        "model.compile(loss='categorical_crossentropy', optimizer=sgd, metrics=['accuracy'])"
      ],
      "execution_count": 0,
      "outputs": []
    },
    {
      "metadata": {
        "id": "oZpCDu0FXM22",
        "colab_type": "code",
        "colab": {
          "base_uri": "https://localhost:8080/",
          "height": 789
        },
        "outputId": "3c1ecf84-1030-467b-c32c-69cc8e85c1c8"
      },
      "cell_type": "code",
      "source": [
        "history = model.fit(x_train, y_train, batch_size = batch_size, nb_epoch = epochs, verbose=1, validation_data = (x_test, y_test))"
      ],
      "execution_count": 178,
      "outputs": [
        {
          "output_type": "stream",
          "text": [
            "/usr/local/lib/python3.6/dist-packages/keras/models.py:981: UserWarning: The `nb_epoch` argument in `fit` has been renamed `epochs`.\n",
            "  warnings.warn('The `nb_epoch` argument in `fit` '\n"
          ],
          "name": "stderr"
        },
        {
          "output_type": "stream",
          "text": [
            "Train on 60000 samples, validate on 10000 samples\n",
            "Epoch 1/20\n",
            "60000/60000 [==============================] - 6s 101us/step - loss: 1.2027 - acc: 0.6256 - val_loss: 0.4934 - val_acc: 0.8670\n",
            "Epoch 2/20\n",
            "60000/60000 [==============================] - 6s 96us/step - loss: 0.5884 - acc: 0.8222 - val_loss: 0.3575 - val_acc: 0.9003\n",
            "Epoch 3/20\n",
            "60000/60000 [==============================] - 6s 97us/step - loss: 0.4708 - acc: 0.8593 - val_loss: 0.3018 - val_acc: 0.9162\n",
            "Epoch 4/20\n",
            "11328/60000 [====>.........................] - ETA: 4s - loss: 0.4228 - acc: 0.8765"
          ],
          "name": "stdout"
        },
        {
          "output_type": "stream",
          "text": [
            "60000/60000 [==============================] - 6s 94us/step - loss: 0.4107 - acc: 0.8804 - val_loss: 0.2700 - val_acc: 0.9223\n",
            "Epoch 5/20\n",
            "60000/60000 [==============================] - 6s 93us/step - loss: 0.3752 - acc: 0.8913 - val_loss: 0.2468 - val_acc: 0.9295\n",
            "Epoch 6/20\n",
            "60000/60000 [==============================] - 6s 93us/step - loss: 0.3437 - acc: 0.8992 - val_loss: 0.2297 - val_acc: 0.9327\n",
            "Epoch 7/20\n",
            "40512/60000 [===================>..........] - ETA: 1s - loss: 0.3259 - acc: 0.9055"
          ],
          "name": "stdout"
        },
        {
          "output_type": "stream",
          "text": [
            "60000/60000 [==============================] - 6s 94us/step - loss: 0.3257 - acc: 0.9042 - val_loss: 0.2159 - val_acc: 0.9370\n",
            "Epoch 8/20\n",
            "60000/60000 [==============================] - 6s 94us/step - loss: 0.3026 - acc: 0.9114 - val_loss: 0.2014 - val_acc: 0.9406\n",
            "Epoch 9/20\n",
            "60000/60000 [==============================] - 6s 95us/step - loss: 0.2885 - acc: 0.9158 - val_loss: 0.1905 - val_acc: 0.9431\n",
            "Epoch 10/20\n",
            "44672/60000 [=====================>........] - ETA: 1s - loss: 0.2780 - acc: 0.9180"
          ],
          "name": "stdout"
        },
        {
          "output_type": "stream",
          "text": [
            "60000/60000 [==============================] - 6s 94us/step - loss: 0.2768 - acc: 0.9185 - val_loss: 0.1825 - val_acc: 0.9450\n",
            "Epoch 11/20\n",
            "60000/60000 [==============================] - 6s 94us/step - loss: 0.2637 - acc: 0.9230 - val_loss: 0.1751 - val_acc: 0.9468\n",
            "Epoch 12/20\n",
            "60000/60000 [==============================] - 6s 95us/step - loss: 0.2520 - acc: 0.9267 - val_loss: 0.1657 - val_acc: 0.9497\n",
            "Epoch 13/20\n",
            "44480/60000 [=====================>........] - ETA: 1s - loss: 0.2415 - acc: 0.9289"
          ],
          "name": "stdout"
        },
        {
          "output_type": "stream",
          "text": [
            "60000/60000 [==============================] - 6s 95us/step - loss: 0.2410 - acc: 0.9292 - val_loss: 0.1595 - val_acc: 0.9512\n",
            "Epoch 14/20\n",
            "60000/60000 [==============================] - 6s 95us/step - loss: 0.2359 - acc: 0.9310 - val_loss: 0.1553 - val_acc: 0.9523\n",
            "Epoch 15/20\n",
            "60000/60000 [==============================] - 6s 94us/step - loss: 0.2330 - acc: 0.9321 - val_loss: 0.1493 - val_acc: 0.9547\n",
            "Epoch 16/20\n",
            "44672/60000 [=====================>........] - ETA: 1s - loss: 0.2218 - acc: 0.9351"
          ],
          "name": "stdout"
        },
        {
          "output_type": "stream",
          "text": [
            "60000/60000 [==============================] - 6s 95us/step - loss: 0.2237 - acc: 0.9348 - val_loss: 0.1466 - val_acc: 0.9547\n",
            "Epoch 17/20\n",
            "60000/60000 [==============================] - 6s 97us/step - loss: 0.2165 - acc: 0.9357 - val_loss: 0.1417 - val_acc: 0.9571\n",
            "Epoch 18/20\n",
            "60000/60000 [==============================] - 6s 98us/step - loss: 0.2120 - acc: 0.9377 - val_loss: 0.1372 - val_acc: 0.9593\n",
            "Epoch 19/20\n",
            "40320/60000 [===================>..........] - ETA: 1s - loss: 0.2072 - acc: 0.9400"
          ],
          "name": "stdout"
        },
        {
          "output_type": "stream",
          "text": [
            "60000/60000 [==============================] - 6s 97us/step - loss: 0.2053 - acc: 0.9403 - val_loss: 0.1359 - val_acc: 0.9593\n",
            "Epoch 20/20\n",
            "60000/60000 [==============================] - 6s 96us/step - loss: 0.2024 - acc: 0.9403 - val_loss: 0.1315 - val_acc: 0.9607\n"
          ],
          "name": "stdout"
        }
      ]
    },
    {
      "metadata": {
        "id": "DLUQ4N0hXnzh",
        "colab_type": "code",
        "colab": {}
      },
      "cell_type": "code",
      "source": [
        "score = model.evaluate(x_test, y_test, verbose=0)"
      ],
      "execution_count": 0,
      "outputs": []
    },
    {
      "metadata": {
        "id": "JeaBxlbZYw_G",
        "colab_type": "code",
        "colab": {
          "base_uri": "https://localhost:8080/",
          "height": 34
        },
        "outputId": "ad2dd098-6826-4b5e-be12-b3a5b24b9073"
      },
      "cell_type": "code",
      "source": [
        "score[0] #loss"
      ],
      "execution_count": 182,
      "outputs": [
        {
          "output_type": "execute_result",
          "data": {
            "text/plain": [
              "0.13153666500411929"
            ]
          },
          "metadata": {
            "tags": []
          },
          "execution_count": 182
        }
      ]
    },
    {
      "metadata": {
        "id": "OE3Z4TveYyuf",
        "colab_type": "code",
        "colab": {
          "base_uri": "https://localhost:8080/",
          "height": 34
        },
        "outputId": "fec7ab7d-cfe7-44e8-9991-e5c77eec409e"
      },
      "cell_type": "code",
      "source": [
        "score[1] #accuracy"
      ],
      "execution_count": 183,
      "outputs": [
        {
          "output_type": "execute_result",
          "data": {
            "text/plain": [
              "0.9607"
            ]
          },
          "metadata": {
            "tags": []
          },
          "execution_count": 183
        }
      ]
    },
    {
      "metadata": {
        "id": "OnQfjWxcY0uJ",
        "colab_type": "code",
        "colab": {}
      },
      "cell_type": "code",
      "source": [
        "model2 = Sequential()\n",
        "model2.add(Dense(128, activation='relu',input_shape=(784,)))\n",
        "model2.add(Dropout(0.5))\n",
        "model2.add(Dense(128, activation='relu'))\n",
        "model2.add(Dense(num_classes, activation='softmax'))"
      ],
      "execution_count": 0,
      "outputs": []
    },
    {
      "metadata": {
        "id": "gRVZ0EvRiy7w",
        "colab_type": "code",
        "colab": {
          "base_uri": "https://localhost:8080/",
          "height": 279
        },
        "outputId": "baa8294e-3740-4e1a-9e73-33e3de78bc0f"
      },
      "cell_type": "code",
      "source": [
        "model2.summary()"
      ],
      "execution_count": 198,
      "outputs": [
        {
          "output_type": "stream",
          "text": [
            "_________________________________________________________________\n",
            "Layer (type)                 Output Shape              Param #   \n",
            "=================================================================\n",
            "dense_58 (Dense)             (None, 128)               100480    \n",
            "_________________________________________________________________\n",
            "dropout_23 (Dropout)         (None, 128)               0         \n",
            "_________________________________________________________________\n",
            "dense_59 (Dense)             (None, 128)               16512     \n",
            "_________________________________________________________________\n",
            "dense_60 (Dense)             (None, 10)                1290      \n",
            "=================================================================\n",
            "Total params: 118,282\n",
            "Trainable params: 118,282\n",
            "Non-trainable params: 0\n",
            "_________________________________________________________________\n"
          ],
          "name": "stdout"
        }
      ]
    },
    {
      "metadata": {
        "id": "48rUtSrkjJF_",
        "colab_type": "code",
        "colab": {}
      },
      "cell_type": "code",
      "source": [
        "adam = optimizers.Adam(lr=0.001, beta_1=0.9, beta_2=0.999, epsilon=None, decay=0.0, amsgrad=False)"
      ],
      "execution_count": 0,
      "outputs": []
    },
    {
      "metadata": {
        "id": "paYyQpINY3h-",
        "colab_type": "code",
        "colab": {}
      },
      "cell_type": "code",
      "source": [
        "model2.compile(loss='categorical_crossentropy', optimizer=adam, metrics=['accuracy'])"
      ],
      "execution_count": 0,
      "outputs": []
    },
    {
      "metadata": {
        "id": "4CPzKIMwi6R8",
        "colab_type": "code",
        "colab": {
          "base_uri": "https://localhost:8080/",
          "height": 789
        },
        "outputId": "1b738c7d-6ee2-4960-8b7f-99a9b11c9366"
      },
      "cell_type": "code",
      "source": [
        "history2 = model2.fit(x_train, y_train, batch_size = batch_size, nb_epoch = epochs, verbose=1, validation_data = (x_test, y_test))"
      ],
      "execution_count": 201,
      "outputs": [
        {
          "output_type": "stream",
          "text": [
            "/usr/local/lib/python3.6/dist-packages/keras/models.py:981: UserWarning: The `nb_epoch` argument in `fit` has been renamed `epochs`.\n",
            "  warnings.warn('The `nb_epoch` argument in `fit` '\n"
          ],
          "name": "stderr"
        },
        {
          "output_type": "stream",
          "text": [
            "Train on 60000 samples, validate on 10000 samples\n",
            "Epoch 1/20\n",
            "60000/60000 [==============================] - 7s 119us/step - loss: 0.4231 - acc: 0.8720 - val_loss: 0.1644 - val_acc: 0.9501\n",
            "Epoch 2/20\n",
            "60000/60000 [==============================] - 7s 115us/step - loss: 0.2265 - acc: 0.9318 - val_loss: 0.1283 - val_acc: 0.9605\n",
            "Epoch 3/20\n",
            "55616/60000 [==========================>...] - ETA: 0s - loss: 0.1871 - acc: 0.9442"
          ],
          "name": "stdout"
        },
        {
          "output_type": "stream",
          "text": [
            "60000/60000 [==============================] - 7s 112us/step - loss: 0.1867 - acc: 0.9440 - val_loss: 0.1068 - val_acc: 0.9672\n",
            "Epoch 4/20\n",
            "60000/60000 [==============================] - 7s 111us/step - loss: 0.1701 - acc: 0.9478 - val_loss: 0.1005 - val_acc: 0.9705\n",
            "Epoch 5/20\n",
            "60000/60000 [==============================] - 7s 112us/step - loss: 0.1525 - acc: 0.9525 - val_loss: 0.0906 - val_acc: 0.9720\n",
            "Epoch 6/20\n",
            "27264/60000 [============>.................] - ETA: 3s - loss: 0.1381 - acc: 0.9563"
          ],
          "name": "stdout"
        },
        {
          "output_type": "stream",
          "text": [
            "60000/60000 [==============================] - 7s 113us/step - loss: 0.1410 - acc: 0.9560 - val_loss: 0.0913 - val_acc: 0.9726\n",
            "Epoch 7/20\n",
            "60000/60000 [==============================] - 7s 113us/step - loss: 0.1325 - acc: 0.9587 - val_loss: 0.0862 - val_acc: 0.9733\n",
            "Epoch 8/20\n",
            "60000/60000 [==============================] - 7s 114us/step - loss: 0.1266 - acc: 0.9601 - val_loss: 0.0815 - val_acc: 0.9745\n",
            "Epoch 9/20\n",
            "22208/60000 [==========>...................] - ETA: 4s - loss: 0.1228 - acc: 0.9626"
          ],
          "name": "stdout"
        },
        {
          "output_type": "stream",
          "text": [
            "60000/60000 [==============================] - 7s 114us/step - loss: 0.1239 - acc: 0.9616 - val_loss: 0.0821 - val_acc: 0.9769\n",
            "Epoch 10/20\n",
            "60000/60000 [==============================] - 7s 112us/step - loss: 0.1181 - acc: 0.9626 - val_loss: 0.0822 - val_acc: 0.9755\n",
            "Epoch 11/20\n",
            "60000/60000 [==============================] - 7s 112us/step - loss: 0.1127 - acc: 0.9631 - val_loss: 0.0812 - val_acc: 0.9749\n",
            "Epoch 12/20\n",
            "21568/60000 [=========>....................] - ETA: 4s - loss: 0.1039 - acc: 0.9645"
          ],
          "name": "stdout"
        },
        {
          "output_type": "stream",
          "text": [
            "60000/60000 [==============================] - 7s 112us/step - loss: 0.1091 - acc: 0.9649 - val_loss: 0.0732 - val_acc: 0.9780\n",
            "Epoch 13/20\n",
            "60000/60000 [==============================] - 7s 112us/step - loss: 0.1029 - acc: 0.9671 - val_loss: 0.0783 - val_acc: 0.9747\n",
            "Epoch 14/20\n",
            "60000/60000 [==============================] - 7s 112us/step - loss: 0.1032 - acc: 0.9664 - val_loss: 0.0781 - val_acc: 0.9783\n",
            "Epoch 15/20\n",
            "21952/60000 [=========>....................] - ETA: 4s - loss: 0.1010 - acc: 0.9682"
          ],
          "name": "stdout"
        },
        {
          "output_type": "stream",
          "text": [
            "60000/60000 [==============================] - 7s 112us/step - loss: 0.1010 - acc: 0.9678 - val_loss: 0.0716 - val_acc: 0.9785\n",
            "Epoch 16/20\n",
            "60000/60000 [==============================] - 7s 114us/step - loss: 0.0960 - acc: 0.9690 - val_loss: 0.0781 - val_acc: 0.9771\n",
            "Epoch 17/20\n",
            "60000/60000 [==============================] - 7s 114us/step - loss: 0.0964 - acc: 0.9691 - val_loss: 0.0728 - val_acc: 0.9783\n",
            "Epoch 18/20\n",
            "20608/60000 [=========>....................] - ETA: 4s - loss: 0.0879 - acc: 0.9707"
          ],
          "name": "stdout"
        },
        {
          "output_type": "stream",
          "text": [
            "60000/60000 [==============================] - 7s 115us/step - loss: 0.0903 - acc: 0.9698 - val_loss: 0.0754 - val_acc: 0.9777\n",
            "Epoch 19/20\n",
            "60000/60000 [==============================] - 7s 113us/step - loss: 0.0907 - acc: 0.9709 - val_loss: 0.0709 - val_acc: 0.9803\n",
            "Epoch 20/20\n",
            "60000/60000 [==============================] - 7s 113us/step - loss: 0.0887 - acc: 0.9711 - val_loss: 0.0763 - val_acc: 0.9778\n"
          ],
          "name": "stdout"
        }
      ]
    },
    {
      "metadata": {
        "id": "Qg6Ph98JjSyW",
        "colab_type": "code",
        "colab": {}
      },
      "cell_type": "code",
      "source": [
        "score2 = model2.evaluate(x_test, y_test, verbose=0)"
      ],
      "execution_count": 0,
      "outputs": []
    },
    {
      "metadata": {
        "id": "XOohe7owj3ha",
        "colab_type": "code",
        "colab": {
          "base_uri": "https://localhost:8080/",
          "height": 34
        },
        "outputId": "44640eab-a206-47fe-cb4f-77be7cc3c0f7"
      },
      "cell_type": "code",
      "source": [
        "score2, score"
      ],
      "execution_count": 205,
      "outputs": [
        {
          "output_type": "execute_result",
          "data": {
            "text/plain": [
              "([0.07631923551031505, 0.9778], [0.13153666500411929, 0.9607])"
            ]
          },
          "metadata": {
            "tags": []
          },
          "execution_count": 205
        }
      ]
    },
    {
      "metadata": {
        "id": "WAIGrZrzj7ti",
        "colab_type": "text"
      },
      "cell_type": "markdown",
      "source": [
        "* We can see that Adam Optimizer works nicely with this example.\n",
        "* Increasing the number of neurons in the first hidden layer will lower the cost further."
      ]
    },
    {
      "metadata": {
        "id": "OMxLT_2dktB_",
        "colab_type": "text"
      },
      "cell_type": "markdown",
      "source": [
        "###Reference\n",
        "\n",
        "1. https://keras.io/ <br/>\n",
        "2. https://github.com/keras-team/keras/blob/master/examples/mnist_mlp.py"
      ]
    }
  ]
}